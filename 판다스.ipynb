{
 "cells": [
  {
   "cell_type": "code",
   "execution_count": null,
   "id": "9aa93d27-3d78-45f9-ba4c-271599da7ff5",
   "metadata": {
    "vscode": {
     "languageId": "python"
    }
   },
   "outputs": [],
   "source": [
    "#tab으로 나뉜것 > tsv파일\n",
    "#,로 나뉜것 > csv 파일"
   ]
  }
 ],
 "metadata": {
  "kernelspec": {
   "display_name": "",
   "name": ""
  },
  "language_info": {
   "name": ""
  }
 },
 "nbformat": 4,
 "nbformat_minor": 5
}
