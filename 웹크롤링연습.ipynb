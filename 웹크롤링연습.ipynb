{
 "cells": [
  {
   "cell_type": "code",
   "execution_count": 1,
   "id": "87bfbce2-3745-4ae2-a84a-e477137374b0",
   "metadata": {},
   "outputs": [
    {
     "ename": "ImportError",
     "evalue": "cannot import name 'keys' from 'selenium.webdriver.common.keys' (c:\\Users\\user\\.conda\\envs\\py312tf2\\Lib\\site-packages\\selenium\\webdriver\\common\\keys.py)",
     "output_type": "error",
     "traceback": [
      "\u001b[1;31m---------------------------------------------------------------------------\u001b[0m",
      "\u001b[1;31mImportError\u001b[0m                               Traceback (most recent call last)",
      "Cell \u001b[1;32mIn[1], line 3\u001b[0m\n\u001b[0;32m      1\u001b[0m \u001b[38;5;28;01mimport\u001b[39;00m \u001b[38;5;21;01msys\u001b[39;00m\n\u001b[0;32m      2\u001b[0m \u001b[38;5;28;01mfrom\u001b[39;00m \u001b[38;5;21;01mselenium\u001b[39;00m \u001b[38;5;28;01mimport\u001b[39;00m webdriver\n\u001b[1;32m----> 3\u001b[0m \u001b[38;5;28;01mfrom\u001b[39;00m \u001b[38;5;21;01mselenium\u001b[39;00m\u001b[38;5;21;01m.\u001b[39;00m\u001b[38;5;21;01mwebdriver\u001b[39;00m\u001b[38;5;21;01m.\u001b[39;00m\u001b[38;5;21;01mcommon\u001b[39;00m\u001b[38;5;21;01m.\u001b[39;00m\u001b[38;5;21;01mkeys\u001b[39;00m \u001b[38;5;28;01mimport\u001b[39;00m keys\n",
      "\u001b[1;31mImportError\u001b[0m: cannot import name 'keys' from 'selenium.webdriver.common.keys' (c:\\Users\\user\\.conda\\envs\\py312tf2\\Lib\\site-packages\\selenium\\webdriver\\common\\keys.py)"
     ]
    }
   ],
   "source": [
    "import sys\n",
    "from selenium import webdriver\n",
    "from selenium.webdriver.common.keys import keys"
   ]
  },
  {
   "cell_type": "code",
   "execution_count": null,
   "id": "b1e68d61",
   "metadata": {},
   "outputs": [],
   "source": [
    "driver = webdriver.chrome()"
   ]
  },
  {
   "cell_type": "code",
   "execution_count": null,
   "id": "5a4d9e48",
   "metadata": {},
   "outputs": [],
   "source": [
    "url = 'https://dportal.kdca.go.kr/'\n",
    "\n",
    "ncov = driver.get(url)\n",
    "print(ncov)"
   ]
  },
  {
   "cell_type": "code",
   "execution_count": null,
   "id": "42fd70f3",
   "metadata": {},
   "outputs": [],
   "source": [
    "topnews =  driver.find_element()\n",
    "print(topnews.text)"
   ]
  }
 ],
 "metadata": {
  "kernelspec": {
   "display_name": "Python 3",
   "language": "python",
   "name": "python3"
  },
  "language_info": {
   "codemirror_mode": {
    "name": "ipython",
    "version": 3
   },
   "file_extension": ".py",
   "mimetype": "text/x-python",
   "name": "python",
   "nbconvert_exporter": "python",
   "pygments_lexer": "ipython3",
   "version": "3.12.9"
  }
 },
 "nbformat": 4,
 "nbformat_minor": 5
}
