{
 "cells": [
  {
   "cell_type": "markdown",
   "metadata": {
    "id": "XFLZbADSDywv"
   },
   "source": [
    "### **1. 셀레니움 설치와 실행**"
   ]
  },
  {
   "cell_type": "code",
   "execution_count": 1,
   "metadata": {
    "id": "WvF1wwiZQ3my"
   },
   "outputs": [],
   "source": [
    "#코드 4-2\n",
    "import sys\n",
    "from selenium import webdriver\n",
    "from selenium.webdriver.common.keys import Keys"
   ]
  },
  {
   "cell_type": "code",
   "execution_count": 2,
   "metadata": {
    "id": "N2bacFYkQ7nF"
   },
   "outputs": [],
   "source": [
    "#코드 4-3\n",
    "driver = webdriver.Chrome()"
   ]
  },
  {
   "cell_type": "markdown",
   "metadata": {
    "id": "Z3HPWn-CD0O2"
   },
   "source": [
    "### **2. 셀레니움 웹 크롤링**"
   ]
  },
  {
   "cell_type": "code",
   "execution_count": 3,
   "metadata": {
    "id": "T5_Rp2LeRQEP"
   },
   "outputs": [
    {
     "name": "stdout",
     "output_type": "stream",
     "text": [
      "None\n"
     ]
    }
   ],
   "source": [
    "#코드 4-4\n",
    "url = 'http://ncov.kdca.go.kr/'\n",
    "\n",
    "ncov = driver.get(url)\n",
    "print(ncov)"
   ]
  },
  {
   "cell_type": "code",
   "execution_count": 37,
   "metadata": {
    "id": "GuSQKdxnmaHe"
   },
   "outputs": [
    {
     "name": "stdout",
     "output_type": "stream",
     "text": [
      "감염병 주요뉴스\n",
      "법정감염병\n",
      "국제공인\n",
      "예방접종기관\n",
      "코로나19\n",
      "먹는치료제\n"
     ]
    }
   ],
   "source": [
    "#코드 4-5\n",
    "topnews = driver.find_element('xpath','//*[@id=\"tab_list\"]/ul/li[1]/ul/li/div')\n",
    "print(topnews.text)  "
   ]
  },
  {
   "cell_type": "code",
   "execution_count": 38,
   "metadata": {
    "id": "uFcZBH_Lkbqo"
   },
   "outputs": [
    {
     "name": "stdout",
     "output_type": "stream",
     "text": [
      "['감염병 주요뉴스']\n"
     ]
    }
   ],
   "source": [
    "#코드 4-6\n",
    "topnews = driver.find_elements('xpath','//*[@id=\"tab_list\"]/ul/li[1]/ul/li/div/a[1]')\n",
    "                            \n",
    "#여러 개의 텍스트를 리스트 topnews에 정리하기\n",
    "topnews = [topnew.text for topnew in topnews]\n",
    "\n",
    "print(topnews) "
   ]
  },
  {
   "cell_type": "code",
   "execution_count": 40,
   "metadata": {
    "id": "MetdYpRFxGtl"
   },
   "outputs": [
    {
     "name": "stdout",
     "output_type": "stream",
     "text": [
      "감염병 주요뉴스\n"
     ]
    }
   ],
   "source": [
    "#코드 4-7\n",
    "button = driver.find_element('xpath','//*[@id=\"tab_list\"]/ul/li[1]/ul/li/div/a[1]')\n",
    "\n",
    "print(button.text)\n",
    "button.click() "
   ]
  },
  {
   "cell_type": "code",
   "execution_count": 41,
   "metadata": {},
   "outputs": [],
   "source": [
    "driver.find_element('xpath','//*[@id=\"q_searchVal\"]').click()\n",
    "driver.find_element('xpath','//*[@id=\"q_searchVal\"]').send_keys('서울')\n",
    "driver.find_element('xpath','//*[@id=\"q_searchVal\"]').send_keys(Keys.ENTER)"
   ]
  },
  {
   "cell_type": "code",
   "execution_count": 42,
   "metadata": {},
   "outputs": [
    {
     "data": {
      "text/plain": [
       "'[11.8.브리핑 보도자료] 감염병 유행으로부터 국민 건강 안전하게 중앙방역대책본부 총괄조정팀 2023.12.08 7785\\n감염병으로부터 안전한 추석연휴 보내기! (9.22.금) 중앙방역대책본부 위기소통팀 2023.09.22 2387\\n주간 확진자 전주 대비 3.9% 감소, 3주 연속 감소 추세(9.6.수) 중앙방역대책본부 위기소통팀 2023.09.06 2573\\n주간 확진자 전주 대비 9.4% 감소, 2주 연속 감소 추세(8.30.수) 중앙방역대책본부 위기소통팀 2023.08.30 1378\\n[8.23.수.정례브리핑 보도자료] 코로나19, 완전한 일상으로 ‘한 걸음 더 중앙방역대책본부 위기소통팀 2023.08.23 827\\n코로나19 여름철 확산세 둔화 중이나 방역수칙 준수 지속 권고(8.16.수) 중앙방역대책본부 위기소통팀 2023.08.16 263\\n코로나19 여름철 확산 대응 방역수칙 준수 지속 권고(8.9.수) 중앙방역대책본부 위기소통팀 2023.08.09 198\\n코로나19 주간 확진자 전주 대비 35.8% 증가(7.26.수) 중앙방역대책본부 위기소통팀 2023.07.26 160\\n코로나19 주간 위험도 ‘낮음’으로 유지(26주 연속) (7.19.수) 중앙방역대책본부 위기소통팀 2023.07.19 131\\n[6.28.수.정례브리핑 보도자료] 코로나19 이후 감염병 위협에 대비, 범부처 차원 대응체계 강화 중앙방역대책본부 위기소통팀 2023.06.28 233'"
      ]
     },
     "execution_count": 42,
     "metadata": {},
     "output_type": "execute_result"
    }
   ],
   "source": [
    "topnews = driver.find_element('xpath','//*[@id=\"content\"]/div/div[1]/table').text\n",
    "                                    \n",
    "topnews"
   ]
  },
  {
   "cell_type": "code",
   "execution_count": 43,
   "metadata": {},
   "outputs": [],
   "source": [
    "import pandas as pd"
   ]
  },
  {
   "cell_type": "code",
   "execution_count": 44,
   "metadata": {},
   "outputs": [
    {
     "data": {
      "text/html": [
       "<div>\n",
       "<style scoped>\n",
       "    .dataframe tbody tr th:only-of-type {\n",
       "        vertical-align: middle;\n",
       "    }\n",
       "\n",
       "    .dataframe tbody tr th {\n",
       "        vertical-align: top;\n",
       "    }\n",
       "\n",
       "    .dataframe thead th {\n",
       "        text-align: right;\n",
       "    }\n",
       "</style>\n",
       "<table border=\"1\" class=\"dataframe\">\n",
       "  <thead>\n",
       "    <tr style=\"text-align: right;\">\n",
       "      <th></th>\n",
       "      <th>번호</th>\n",
       "      <th>제목</th>\n",
       "      <th>담당부서</th>\n",
       "      <th>작성일</th>\n",
       "      <th>조회수</th>\n",
       "    </tr>\n",
       "  </thead>\n",
       "  <tbody>\n",
       "    <tr>\n",
       "      <th>0</th>\n",
       "      <td>감염병으로부터</td>\n",
       "      <td>안전한 추석연휴 보내기! (9.22.금)</td>\n",
       "      <td>중앙방역대책본부 위기소통팀</td>\n",
       "      <td>2023.09.22</td>\n",
       "      <td>2387</td>\n",
       "    </tr>\n",
       "    <tr>\n",
       "      <th>1</th>\n",
       "      <td>주간</td>\n",
       "      <td>확진자 전주 대비 3.9% 감소, 3주 연속 감소 추세(9.6.수)</td>\n",
       "      <td>중앙방역대책본부 위기소통팀</td>\n",
       "      <td>2023.09.06</td>\n",
       "      <td>2573</td>\n",
       "    </tr>\n",
       "    <tr>\n",
       "      <th>2</th>\n",
       "      <td>주간</td>\n",
       "      <td>확진자 전주 대비 9.4% 감소, 2주 연속 감소 추세(8.30.수)</td>\n",
       "      <td>중앙방역대책본부 위기소통팀</td>\n",
       "      <td>2023.08.30</td>\n",
       "      <td>1378</td>\n",
       "    </tr>\n",
       "    <tr>\n",
       "      <th>3</th>\n",
       "      <td>[8.23.수.정례브리핑</td>\n",
       "      <td>보도자료] 코로나19, 완전한 일상으로 ‘한 걸음 더</td>\n",
       "      <td>중앙방역대책본부 위기소통팀</td>\n",
       "      <td>2023.08.23</td>\n",
       "      <td>827</td>\n",
       "    </tr>\n",
       "    <tr>\n",
       "      <th>4</th>\n",
       "      <td>코로나19</td>\n",
       "      <td>여름철 확산세 둔화 중이나 방역수칙 준수 지속 권고(8.16.수)</td>\n",
       "      <td>중앙방역대책본부 위기소통팀</td>\n",
       "      <td>2023.08.16</td>\n",
       "      <td>263</td>\n",
       "    </tr>\n",
       "    <tr>\n",
       "      <th>5</th>\n",
       "      <td>코로나19</td>\n",
       "      <td>여름철 확산 대응 방역수칙 준수 지속 권고(8.9.수)</td>\n",
       "      <td>중앙방역대책본부 위기소통팀</td>\n",
       "      <td>2023.08.09</td>\n",
       "      <td>198</td>\n",
       "    </tr>\n",
       "    <tr>\n",
       "      <th>6</th>\n",
       "      <td>코로나19</td>\n",
       "      <td>주간 확진자 전주 대비 35.8% 증가(7.26.수)</td>\n",
       "      <td>중앙방역대책본부 위기소통팀</td>\n",
       "      <td>2023.07.26</td>\n",
       "      <td>160</td>\n",
       "    </tr>\n",
       "    <tr>\n",
       "      <th>7</th>\n",
       "      <td>코로나19</td>\n",
       "      <td>주간 위험도 ‘낮음’으로 유지(26주 연속) (7.19.수)</td>\n",
       "      <td>중앙방역대책본부 위기소통팀</td>\n",
       "      <td>2023.07.19</td>\n",
       "      <td>131</td>\n",
       "    </tr>\n",
       "    <tr>\n",
       "      <th>8</th>\n",
       "      <td>[6.28.수.정례브리핑</td>\n",
       "      <td>보도자료] 코로나19 이후 감염병 위협에 대비, 범부처 차원 대응체계 강화</td>\n",
       "      <td>중앙방역대책본부 위기소통팀</td>\n",
       "      <td>2023.06.28</td>\n",
       "      <td>233</td>\n",
       "    </tr>\n",
       "  </tbody>\n",
       "</table>\n",
       "</div>"
      ],
      "text/plain": [
       "              번호                                         제목            담당부서  \\\n",
       "0        감염병으로부터                     안전한 추석연휴 보내기! (9.22.금)  중앙방역대책본부 위기소통팀   \n",
       "1             주간      확진자 전주 대비 3.9% 감소, 3주 연속 감소 추세(9.6.수)  중앙방역대책본부 위기소통팀   \n",
       "2             주간     확진자 전주 대비 9.4% 감소, 2주 연속 감소 추세(8.30.수)  중앙방역대책본부 위기소통팀   \n",
       "3  [8.23.수.정례브리핑              보도자료] 코로나19, 완전한 일상으로 ‘한 걸음 더  중앙방역대책본부 위기소통팀   \n",
       "4          코로나19       여름철 확산세 둔화 중이나 방역수칙 준수 지속 권고(8.16.수)  중앙방역대책본부 위기소통팀   \n",
       "5          코로나19             여름철 확산 대응 방역수칙 준수 지속 권고(8.9.수)  중앙방역대책본부 위기소통팀   \n",
       "6          코로나19              주간 확진자 전주 대비 35.8% 증가(7.26.수)  중앙방역대책본부 위기소통팀   \n",
       "7          코로나19          주간 위험도 ‘낮음’으로 유지(26주 연속) (7.19.수)  중앙방역대책본부 위기소통팀   \n",
       "8  [6.28.수.정례브리핑  보도자료] 코로나19 이후 감염병 위협에 대비, 범부처 차원 대응체계 강화  중앙방역대책본부 위기소통팀   \n",
       "\n",
       "          작성일   조회수  \n",
       "0  2023.09.22  2387  \n",
       "1  2023.09.06  2573  \n",
       "2  2023.08.30  1378  \n",
       "3  2023.08.23   827  \n",
       "4  2023.08.16   263  \n",
       "5  2023.08.09   198  \n",
       "6  2023.07.26   160  \n",
       "7  2023.07.19   131  \n",
       "8  2023.06.28   233  "
      ]
     },
     "execution_count": 44,
     "metadata": {},
     "output_type": "execute_result"
    }
   ],
   "source": [
    "# 줄 단위로 나누기\n",
    "lines = topnews.strip().split('\\n')\n",
    "\n",
    "# 첫 줄은 헤더\n",
    "columns = lines[0].split()\n",
    "data = []\n",
    "\n",
    "for line in lines[1:]:\n",
    "    parts = line.strip().split()\n",
    "    \n",
    "    # 기본적인 구분: 번호, 제목..., 담당부서, 작성일, 조회수\n",
    "    number = parts[0]\n",
    "    date = parts[-2]\n",
    "    views = parts[-1]\n",
    "    dept = parts[-4] + ' ' + parts[-3]  # ex) 중앙방역대책본부 위기소통팀\n",
    "    title = ' '.join(parts[1:-4])\n",
    "    \n",
    "    data.append([number, title, dept, date, views])\n",
    "\n",
    "# DataFrame 생성\n",
    "df = pd.DataFrame(data, columns=['번호', '제목', '담당부서', '작성일', '조회수'])\n",
    "\n",
    "# 결과 출력\n",
    "df"
   ]
  },
  {
   "cell_type": "code",
   "execution_count": null,
   "metadata": {},
   "outputs": [],
   "source": [
    "url = f'https://ncov.kdca.go.kr/pot/bbs/BD_selectBbsList.do?q_bbsSn=1008&q_bbsDocNo=&q_clsfNo=&q_searchKeyTy=&q_searchVal=%EC%84%9C%EC%9A%B8&q_currPage={pg_num}&q_sortName=&q_sortOrder=&'"
   ]
  },
  {
   "cell_type": "code",
   "execution_count": null,
   "metadata": {},
   "outputs": [],
   "source": [
    "for "
   ]
  }
 ],
 "metadata": {
  "colab": {
   "authorship_tag": "ABX9TyP6uT4RwbxljYTODlUtjMXE",
   "provenance": []
  },
  "kernelspec": {
   "display_name": "Python 3",
   "language": "python",
   "name": "python3"
  },
  "language_info": {
   "codemirror_mode": {
    "name": "ipython",
    "version": 3
   },
   "file_extension": ".py",
   "mimetype": "text/x-python",
   "name": "python",
   "nbconvert_exporter": "python",
   "pygments_lexer": "ipython3",
   "version": "3.12.9"
  }
 },
 "nbformat": 4,
 "nbformat_minor": 4
}
