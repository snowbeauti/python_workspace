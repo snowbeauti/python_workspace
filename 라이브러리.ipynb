{
 "cells": [
  {
   "cell_type": "code",
   "execution_count": null,
   "id": "c9e59f60-fce4-4477-a569-d92100c91b40",
   "metadata": {},
   "outputs": [
    {
     "data": {
      "text/plain": [
       "477"
      ]
     },
     "execution_count": 1,
     "metadata": {},
     "output_type": "execute_result"
    }
   ],
   "source": [
    "#D-day 계산기기\n",
    "import datetime\n",
    "day1 = datetime.date(2021,12,14)\n",
    "day2 = datetime.date(2023,4,5)\n",
    "diff = day2 - day1\n",
    "diff.days\n"
   ]
  },
  {
   "cell_type": "code",
   "execution_count": 3,
   "id": "19aabb04",
   "metadata": {},
   "outputs": [
    {
     "data": {
      "text/plain": [
       "2"
      ]
     },
     "execution_count": 3,
     "metadata": {},
     "output_type": "execute_result"
    }
   ],
   "source": [
    "#요일계산 day.weekday() 0은월요일, 1은화요일, 2는수요일, … , 6은일요일\n",
    "#day.isoweekday() 1은월요일, 2는화요일, …, 7은일요일\n",
    "day = datetime.date(2021,12,14)\n",
    "day.weekday()\n",
    "day.isoweekday()"
   ]
  },
  {
   "cell_type": "code",
   "execution_count": null,
   "id": "2cffc79f",
   "metadata": {},
   "outputs": [
    {
     "data": {
      "text/plain": [
       "1744696284.2134876"
      ]
     },
     "execution_count": 4,
     "metadata": {},
     "output_type": "execute_result"
    }
   ],
   "source": [
    "# 1970년 1월 1일 0시 0분 0초 를 기준으로 지난시간을 초단위로 리턴\n",
    "import time\n",
    "time.time()"
   ]
  },
  {
   "cell_type": "code",
   "execution_count": null,
   "id": "ca90ce29",
   "metadata": {},
   "outputs": [
    {
     "data": {
      "text/plain": [
       "time.struct_time(tm_year=2025, tm_mon=4, tm_mday=15, tm_hour=14, tm_min=52, tm_sec=8, tm_wday=1, tm_yday=105, tm_isdst=0)"
      ]
     },
     "execution_count": 5,
     "metadata": {},
     "output_type": "execute_result"
    }
   ],
   "source": [
    "#연, 월, 일, 시, 분, 초, ...의 형태로\n",
    "time.localtime()"
   ]
  },
  {
   "cell_type": "code",
   "execution_count": 6,
   "id": "19c5ece8",
   "metadata": {},
   "outputs": [
    {
     "data": {
      "text/plain": [
       "'Tue Apr 15 14:53:08 2025'"
      ]
     },
     "execution_count": 6,
     "metadata": {},
     "output_type": "execute_result"
    }
   ],
   "source": [
    "#항상 현재 시간만을 리턴\n",
    "time.ctime()"
   ]
  },
  {
   "cell_type": "code",
   "execution_count": null,
   "id": "6ec02c4f",
   "metadata": {},
   "outputs": [
    {
     "data": {
      "text/plain": [
       "'Tue Apr 15 14:55:27 2025'"
      ]
     },
     "execution_count": 10,
     "metadata": {},
     "output_type": "execute_result"
    }
   ],
   "source": [
    "#시간에 관계된것을 세밀하게 표현하는 여러 가지 포맷 코드 제공\n",
    "#time.strftime('출력할_형식_포맷_코드', time.localtime(time.time()))\n",
    "import time\n",
    "\n",
    "time.strftime('%x',time.localtime(time.time())) #'04/15/25'\n",
    "time.strftime('%c',time.localtime(time.time())) #'Tue Apr 15 14:55:27 2025'\n"
   ]
  },
  {
   "cell_type": "code",
   "execution_count": null,
   "id": "ef0cde42",
   "metadata": {},
   "outputs": [
    {
     "name": "stdout",
     "output_type": "stream",
     "text": [
      "0\n",
      "1\n",
      "2\n",
      "3\n",
      "4\n",
      "5\n",
      "6\n",
      "7\n",
      "8\n",
      "9\n"
     ]
    }
   ],
   "source": [
    "#time.sleep() 일정한 시간 간격을 두고 루프를 실행\n",
    "import time\n",
    "for i in range(10):\n",
    "    print(i)\n",
    "    time.sleep(1) #1초간격으로 실행"
   ]
  },
  {
   "cell_type": "code",
   "execution_count": null,
   "id": "92dcb51e",
   "metadata": {},
   "outputs": [
    {
     "data": {
      "text/plain": [
       "20"
      ]
     },
     "execution_count": 12,
     "metadata": {},
     "output_type": "execute_result"
    }
   ],
   "source": [
    "#math.gcd 최대공약수\n",
    "import math\n",
    "math.gcd(60,100,80) #20"
   ]
  },
  {
   "cell_type": "code",
   "execution_count": null,
   "id": "0980af41",
   "metadata": {},
   "outputs": [
    {
     "data": {
      "text/plain": [
       "75"
      ]
     },
     "execution_count": 13,
     "metadata": {},
     "output_type": "execute_result"
    }
   ],
   "source": [
    "#math.lcm 최대공배수\n",
    "import math\n",
    "math.lcm(15,25) #75"
   ]
  },
  {
   "cell_type": "code",
   "execution_count": null,
   "id": "892e3fcc",
   "metadata": {},
   "outputs": [
    {
     "data": {
      "text/plain": [
       "0.3049841673032474"
      ]
     },
     "execution_count": 15,
     "metadata": {},
     "output_type": "execute_result"
    }
   ],
   "source": [
    "#random 난수발생모듈\n",
    "import random\n",
    "random.random() #랜덤 발생"
   ]
  },
  {
   "cell_type": "code",
   "execution_count": 16,
   "id": "2bfe7436",
   "metadata": {},
   "outputs": [],
   "source": [
    "#입력으로 받은 리스트에서 무작위로 하나 리턴\n",
    "def random_pop(data):\n",
    "    number = random.choice(data)\n",
    "    data.remove(number)\n",
    "    return number"
   ]
  },
  {
   "cell_type": "code",
   "execution_count": null,
   "id": "62953e7e",
   "metadata": {},
   "outputs": [
    {
     "data": {
      "text/plain": [
       "[1, 2, 3, 4, 5]"
      ]
     },
     "execution_count": 17,
     "metadata": {},
     "output_type": "execute_result"
    }
   ],
   "source": [
    "#리스트 항목 섞기\n",
    "import random\n",
    "data = [1,2,3,4,5]\n",
    "random.sample(data, len(data))\n",
    "data"
   ]
  },
  {
   "cell_type": "code",
   "execution_count": 18,
   "id": "ddf0ff05",
   "metadata": {},
   "outputs": [
    {
     "name": "stdout",
     "output_type": "stream",
     "text": [
      "[('은서', '츄파춥스'), ('동민', '하리보'), ('설아', '프링글스'), ('현수', '새우깡'), ('재윤', '새우깡'), ('희진', '새우깡')]\n"
     ]
    }
   ],
   "source": [
    "'''itertools.zip_longest 전달한반복가능객체(*iterables)의 길이가 서로 다르다면 긴객체의 길이에 맞춰\n",
    "fillvalue에 설정한 값을 짧은 객체에 채울수있음'''\n",
    "import itertools\n",
    "\n",
    "students = ['은서','동민','설아', '현수', '재윤', '희진']\n",
    "snacks = ['츄파춥스', '하리보', '프링글스']\n",
    "\n",
    "result = itertools.zip_longest(students, snacks, fillvalue='새우깡')\n",
    "print(list(result))"
   ]
  },
  {
   "cell_type": "code",
   "execution_count": null,
   "id": "2d5e0912",
   "metadata": {},
   "outputs": [
    {
     "data": {
      "text/plain": [
       "[('1', '2'), ('1', '3'), ('2', '1'), ('2', '3'), ('3', '1'), ('3', '2')]"
      ]
     },
     "execution_count": 19,
     "metadata": {},
     "output_type": "execute_result"
    }
   ],
   "source": [
    "#itertools.permutation 반복 가능 객체중에서 r개를 선택한 순열을 이터레이터로 리턴하는 함수\n",
    "import itertools\n",
    "\n",
    "#1,2,3숫자가 적힌 3장의 카드에서 2장의 카드를 꺼내만들 수 있는 2자리 숫자를 모두 구하시오\n",
    "list(itertools.permutations(['1','2','3'], 2))"
   ]
  },
  {
   "cell_type": "code",
   "execution_count": null,
   "id": "acbe171d",
   "metadata": {},
   "outputs": [
    {
     "data": {
      "text/plain": [
       "1.2277380399898834e-05"
      ]
     },
     "execution_count": 26,
     "metadata": {},
     "output_type": "execute_result"
    }
   ],
   "source": [
    "#itertools.combination 1~45 중 서로 다른 숫자 6개를 뽑는 로또번호의 모든 경우의 수(조합)와 그 개수\n",
    "import itertools\n",
    "it = itertools.combinations(range(1,46), 6)\n",
    "len(list(itertools.combinations(range(1,46), 6)))"
   ]
  },
  {
   "cell_type": "code",
   "execution_count": null,
   "id": "19cdfc1e",
   "metadata": {},
   "outputs": [
    {
     "name": "stdout",
     "output_type": "stream",
     "text": [
      "15\n"
     ]
    }
   ],
   "source": [
    "#functools.reduce 함수를 반복 가능한 객체의 요소에 차례대로 누적 적용하여 이 객체를 하나의 값으로 줄이는 함수\n",
    "import functools\n",
    "\n",
    "data = [1,2,3,4,5]\n",
    "result = functools.reduce(lambda x, y : x+y, data)\n",
    "print(result)\n",
    "\n",
    "# ((((1 + 2) + 3) + 4) + 5) >> 15"
   ]
  },
  {
   "cell_type": "code",
   "execution_count": 30,
   "id": "01710ed8",
   "metadata": {},
   "outputs": [
    {
     "name": "stdout",
     "output_type": "stream",
     "text": [
      "[('sally', 17, 'B'), ('jane', 22, 'A'), ('dave', 32, 'B')]\n"
     ]
    }
   ],
   "source": [
    "#operator.itemgetter 주로 sorted와 같은 함수의 key 매개변수에 적용하여 정렬할 수 있도록 도와줌\n",
    "from operator import itemgetter\n",
    "\n",
    "students = [\n",
    "    (\"jane\", 22, 'A'),\n",
    "    (\"dave\", 32, 'B'),\n",
    "    (\"sally\", 17, 'B')\n",
    "]\n",
    "\n",
    "result = sorted(students, key=itemgetter(1))\n",
    "print(result)"
   ]
  },
  {
   "cell_type": "code",
   "execution_count": 31,
   "id": "160e0af3",
   "metadata": {},
   "outputs": [
    {
     "name": "stdout",
     "output_type": "stream",
     "text": [
      "[{'name': 'sally', 'age': 17, 'grade': 'B'}, {'name': 'jane', 'age': 22, 'grade': 'A'}, {'name': 'dave', 'age': 32, 'grade': 'B'}]\n"
     ]
    }
   ],
   "source": [
    "from operator import itemgetter\n",
    "\n",
    "students = [\n",
    "    {\"name\" : \"jane\", \"age\" : 22, \"grade\" : 'A'},\n",
    "    {\"name\" : \"dave\", \"age\" : 32, \"grade\" : 'B'},\n",
    "    {\"name\" : \"sally\", \"age\" : 17, \"grade\" : 'B'}\n",
    "]\n",
    "\n",
    "result = sorted(students, key=itemgetter('age'))\n",
    "print(result)"
   ]
  },
  {
   "cell_type": "code",
   "execution_count": null,
   "id": "4b291147",
   "metadata": {},
   "outputs": [],
   "source": [
    "#shutil 파일을 복사하거나 이동할때 사용\n",
    "import shutil\n",
    "shutil.copy('\"D:/news.txt\"','\"C:/news.txt\"')"
   ]
  },
  {
   "cell_type": "code",
   "execution_count": null,
   "id": "d38cb9f5",
   "metadata": {},
   "outputs": [],
   "source": [
    "#glob 특정 디렉터리 안의 파일 이름을 읽어서 리스트로 리턴\n",
    "import glob\n",
    "glob.glob('\"D:/mark*\"') #mark로 시작하는 파일 모두 찾기기"
   ]
  },
  {
   "cell_type": "code",
   "execution_count": null,
   "id": "bf559f69",
   "metadata": {},
   "outputs": [],
   "source": [
    "#pickle객체의 형태를 그대로 유지하면서 파일에 저장하고 불러올 수 있게 하는 모듈\n",
    "#pickle.dump 딕셔너리 객체를 그대로 파일에 저장\n",
    "import pickle\n",
    "f = open('test.txt', 'wb')\n",
    "data = {1: 'python', 2: 'you need'}\n",
    "pickle.dump(data, f)\n",
    "f.close()"
   ]
  },
  {
   "cell_type": "code",
   "execution_count": null,
   "id": "450430f3",
   "metadata": {},
   "outputs": [],
   "source": [
    "#pickle객체의 형태를 그대로 유지하면서 파일에 저장하고 불러올 수 있게 하는 모듈\n",
    "#pickle.load 저장한 파일을 원래 딕셔너리 객체 상태 그대로 불러오기기\n",
    "import pickle\n",
    "f = open('test.txt', 'rb')\n",
    "data = pickle.load(f)\n",
    "pickle.load(data)\n",
    "f.close()"
   ]
  },
  {
   "cell_type": "code",
   "execution_count": null,
   "id": "60919542",
   "metadata": {},
   "outputs": [
    {
     "data": {
      "text/plain": [
       "environ{'ALLUSERSPROFILE': 'C:\\\\ProgramData',\n",
       "        'APPDATA': 'C:\\\\Users\\\\user\\\\AppData\\\\Roaming',\n",
       "        'CHROME_CRASHPAD_PIPE_NAME': '\\\\\\\\.\\\\pipe\\\\crashpad_15560_SMYILJJUEVZZGENO',\n",
       "        'COMMONPROGRAMFILES': 'C:\\\\Program Files\\\\Common Files',\n",
       "        'COMMONPROGRAMFILES(X86)': 'C:\\\\Program Files (x86)\\\\Common Files',\n",
       "        'COMMONPROGRAMW6432': 'C:\\\\Program Files\\\\Common Files',\n",
       "        'COMPUTERNAME': 'DESKTOP-647HM36',\n",
       "        'COMSPEC': 'C:\\\\WINDOWS\\\\system32\\\\cmd.exe',\n",
       "        'CONDA_ALLOW_SOFTLINKS': 'false',\n",
       "        'CONDA_DEFAULT_ENV': 'py312tf2',\n",
       "        'CONDA_EXE': 'C:\\\\anaconda3\\\\Scripts\\\\conda.exe',\n",
       "        'CONDA_PREFIX': 'C:\\\\Users\\\\user\\\\.conda\\\\envs\\\\py312tf2',\n",
       "        'CONDA_PROMPT_MODIFIER': '(py312tf2) ',\n",
       "        'CONDA_PYTHON_EXE': 'C:\\\\anaconda3\\\\python.exe',\n",
       "        'CONDA_ROOT': 'C:\\\\anaconda3',\n",
       "        'CONDA_SHLVL': '1',\n",
       "        'DRIVERDATA': 'C:\\\\Windows\\\\System32\\\\Drivers\\\\DriverData',\n",
       "        'EFC_21704': '1',\n",
       "        'ELECTRON_RUN_AS_NODE': '1',\n",
       "        'FPS_BROWSER_APP_PROFILE_STRING': 'Internet Explorer',\n",
       "        'FPS_BROWSER_USER_PROFILE_STRING': 'Default',\n",
       "        'HOMEDRIVE': 'C:',\n",
       "        'HOMEPATH': '\\\\Users\\\\user',\n",
       "        'JPY_INTERRUPT_EVENT': '2932',\n",
       "        'LOCALAPPDATA': 'C:\\\\Users\\\\user\\\\AppData\\\\Local',\n",
       "        'LOGONSERVER': '\\\\\\\\DESKTOP-647HM36',\n",
       "        'NUMBER_OF_PROCESSORS': '28',\n",
       "        'ONEDRIVE': 'C:\\\\Users\\\\user\\\\OneDrive',\n",
       "        'ORIGINAL_XDG_CURRENT_DESKTOP': 'undefined',\n",
       "        'OS': 'Windows_NT',\n",
       "        'PATH': 'c:\\\\Users\\\\user\\\\.conda\\\\envs\\\\py312tf2;C:\\\\Users\\\\user\\\\.conda\\\\envs\\\\py312tf2;C:\\\\Users\\\\user\\\\.conda\\\\envs\\\\py312tf2\\\\Library\\\\mingw-w64\\\\bin;C:\\\\Users\\\\user\\\\.conda\\\\envs\\\\py312tf2\\\\Library\\\\usr\\\\bin;C:\\\\Users\\\\user\\\\.conda\\\\envs\\\\py312tf2\\\\Library\\\\bin;C:\\\\Users\\\\user\\\\.conda\\\\envs\\\\py312tf2\\\\Scripts;C:\\\\Users\\\\user\\\\.conda\\\\envs\\\\py312tf2\\\\bin;C:\\\\anaconda3\\\\condabin;C:\\\\WINDOWS\\\\system32;C:\\\\WINDOWS;C:\\\\WINDOWS\\\\System32\\\\Wbem;C:\\\\WINDOWS\\\\System32\\\\WindowsPowerShell\\\\v1.0;C:\\\\WINDOWS\\\\System32\\\\OpenSSH;C:\\\\Program Files (x86)\\\\NVIDIA Corporation\\\\PhysX\\\\Common;C:\\\\Program Files\\\\Git\\\\cmd;C:\\\\Users\\\\user\\\\AppData\\\\Local\\\\Programs\\\\Python\\\\Launcher;C:\\\\Users\\\\user\\\\AppData\\\\Local\\\\Microsoft\\\\WindowsApps;C:\\\\Users\\\\user\\\\AppData\\\\Local\\\\Programs\\\\Microsoft VS Code\\\\bin;C:\\\\Users\\\\user\\\\AppData\\\\Local\\\\Programs\\\\Python\\\\Python313;C:\\\\Users\\\\user\\\\AppData\\\\Local\\\\Programs\\\\Python\\\\Python313\\\\Scripts;.',\n",
       "        'PATHEXT': '.COM;.EXE;.BAT;.CMD;.VBS;.VBE;.JS;.JSE;.WSF;.WSH;.MSC',\n",
       "        'PROCESSOR_ARCHITECTURE': 'AMD64',\n",
       "        'PROCESSOR_IDENTIFIER': 'Intel64 Family 6 Model 183 Stepping 1, GenuineIntel',\n",
       "        'PROCESSOR_LEVEL': '6',\n",
       "        'PROCESSOR_REVISION': 'b701',\n",
       "        'PROGRAMDATA': 'C:\\\\ProgramData',\n",
       "        'PROGRAMFILES': 'C:\\\\Program Files',\n",
       "        'PROGRAMFILES(X86)': 'C:\\\\Program Files (x86)',\n",
       "        'PROGRAMW6432': 'C:\\\\Program Files',\n",
       "        'PROMPT': '(py312tf2) $P$G',\n",
       "        'PSMODULEPATH': 'C:\\\\Program Files\\\\WindowsPowerShell\\\\Modules;C:\\\\WINDOWS\\\\system32\\\\WindowsPowerShell\\\\v1.0\\\\Modules',\n",
       "        'PUBLIC': 'C:\\\\Users\\\\Public',\n",
       "        'PYDEVD_IPYTHON_COMPATIBLE_DEBUGGING': '1',\n",
       "        'PYTHONIOENCODING': 'utf-8',\n",
       "        'PYTHONUNBUFFERED': '1',\n",
       "        'PYTHONUTF8': '1',\n",
       "        'PYTHON_FROZEN_MODULES': 'on',\n",
       "        'SESSIONNAME': 'Console',\n",
       "        'SSL_CERT_FILE': 'C:\\\\Users\\\\user\\\\.conda\\\\envs\\\\py312tf2\\\\Library\\\\ssl\\\\cacert.pem',\n",
       "        'SYSTEMDRIVE': 'C:',\n",
       "        'SYSTEMROOT': 'C:\\\\WINDOWS',\n",
       "        'TEMP': 'C:\\\\Users\\\\user\\\\AppData\\\\Local\\\\Temp',\n",
       "        'TMP': 'C:\\\\Users\\\\user\\\\AppData\\\\Local\\\\Temp',\n",
       "        'USERDOMAIN': 'DESKTOP-647HM36',\n",
       "        'USERDOMAIN_ROAMINGPROFILE': 'DESKTOP-647HM36',\n",
       "        'USERNAME': 'user',\n",
       "        'USERPROFILE': 'C:\\\\Users\\\\user',\n",
       "        'VSCODE_CODE_CACHE_PATH': 'C:\\\\Users\\\\user\\\\AppData\\\\Roaming\\\\Code\\\\CachedData\\\\4949701c880d4bdb949e3c0e6b400288da7f474b',\n",
       "        'VSCODE_CRASH_REPORTER_PROCESS_TYPE': 'extensionHost',\n",
       "        'VSCODE_CWD': 'C:\\\\Users\\\\user\\\\AppData\\\\Local\\\\Programs\\\\Microsoft VS Code',\n",
       "        'VSCODE_ESM_ENTRYPOINT': 'vs/workbench/api/node/extensionHostProcess',\n",
       "        'VSCODE_HANDLES_UNCAUGHT_ERRORS': 'true',\n",
       "        'VSCODE_IPC_HOOK': '\\\\\\\\.\\\\pipe\\\\ee27be9a-1.99.2-main-sock',\n",
       "        'VSCODE_L10N_BUNDLE_LOCATION': '',\n",
       "        'VSCODE_NLS_CONFIG': '{\"userLocale\":\"en-us\",\"osLocale\":\"ko\",\"resolvedLanguage\":\"en\",\"defaultMessagesFile\":\"C:\\\\\\\\Users\\\\\\\\user\\\\\\\\AppData\\\\\\\\Local\\\\\\\\Programs\\\\\\\\Microsoft VS Code\\\\\\\\resources\\\\\\\\app\\\\\\\\out\\\\\\\\nls.messages.json\",\"locale\":\"en-us\",\"availableLanguages\":{}}',\n",
       "        'VSCODE_PID': '15560',\n",
       "        'WINDIR': 'C:\\\\WINDOWS',\n",
       "        '_CONDA_OLD_CHCP': '949',\n",
       "        '__CONDA_OPENSLL_CERT_FILE_SET': '\"1\"',\n",
       "        'PYDEVD_USE_FRAME_EVAL': 'NO',\n",
       "        'TERM': 'xterm-color',\n",
       "        'CLICOLOR': '1',\n",
       "        'FORCE_COLOR': '1',\n",
       "        'CLICOLOR_FORCE': '1',\n",
       "        'PAGER': 'cat',\n",
       "        'GIT_PAGER': 'cat',\n",
       "        'MPLBACKEND': 'module://matplotlib_inline.backend_inline'}"
      ]
     },
     "execution_count": 32,
     "metadata": {},
     "output_type": "execute_result"
    }
   ],
   "source": [
    "#os 환경변수나 디렉터리, 파일 등의 os자원을 제어할 수 있게 해주는 모듈\n",
    "import os\n",
    "os.environ #현재 시스템의 환경 변숫값 리턴"
   ]
  },
  {
   "cell_type": "code",
   "execution_count": 33,
   "id": "45e35729",
   "metadata": {},
   "outputs": [
    {
     "data": {
      "text/plain": [
       "'c:\\\\Users\\\\user\\\\.conda\\\\envs\\\\py312tf2;C:\\\\Users\\\\user\\\\.conda\\\\envs\\\\py312tf2;C:\\\\Users\\\\user\\\\.conda\\\\envs\\\\py312tf2\\\\Library\\\\mingw-w64\\\\bin;C:\\\\Users\\\\user\\\\.conda\\\\envs\\\\py312tf2\\\\Library\\\\usr\\\\bin;C:\\\\Users\\\\user\\\\.conda\\\\envs\\\\py312tf2\\\\Library\\\\bin;C:\\\\Users\\\\user\\\\.conda\\\\envs\\\\py312tf2\\\\Scripts;C:\\\\Users\\\\user\\\\.conda\\\\envs\\\\py312tf2\\\\bin;C:\\\\anaconda3\\\\condabin;C:\\\\WINDOWS\\\\system32;C:\\\\WINDOWS;C:\\\\WINDOWS\\\\System32\\\\Wbem;C:\\\\WINDOWS\\\\System32\\\\WindowsPowerShell\\\\v1.0;C:\\\\WINDOWS\\\\System32\\\\OpenSSH;C:\\\\Program Files (x86)\\\\NVIDIA Corporation\\\\PhysX\\\\Common;C:\\\\Program Files\\\\Git\\\\cmd;C:\\\\Users\\\\user\\\\AppData\\\\Local\\\\Programs\\\\Python\\\\Launcher;C:\\\\Users\\\\user\\\\AppData\\\\Local\\\\Microsoft\\\\WindowsApps;C:\\\\Users\\\\user\\\\AppData\\\\Local\\\\Programs\\\\Microsoft VS Code\\\\bin;C:\\\\Users\\\\user\\\\AppData\\\\Local\\\\Programs\\\\Python\\\\Python313;C:\\\\Users\\\\user\\\\AppData\\\\Local\\\\Programs\\\\Python\\\\Python313\\\\Scripts;.'"
      ]
     },
     "execution_count": 33,
     "metadata": {},
     "output_type": "execute_result"
    }
   ],
   "source": [
    "os.environ['PATH']"
   ]
  },
  {
   "cell_type": "code",
   "execution_count": null,
   "id": "daeb64ba",
   "metadata": {},
   "outputs": [],
   "source": [
    "#현재 디렉터리의 위치 변경\n",
    "os.chdir('C:\\windows')\n",
    "\n",
    "#현재 디렉터리 위치 리턴\n",
    "os.getcwd()\n",
    "\n",
    "#시스템 자체의 프로그램이나 기타 명령어를 파이썬에서 호출\n",
    "os.system('dir')\n",
    "\n",
    "#시스템 명령어를 실행한 결과값을 읽기 모드 형태의 파일 객체로 리턴\n",
    "f = os.popen('dir')"
   ]
  },
  {
   "cell_type": "code",
   "execution_count": null,
   "id": "a4f981fd",
   "metadata": {},
   "outputs": [],
   "source": [
    "#zipfile\n",
    "import zipfile\n",
    "\n",
    "#파일 합치기기\n",
    "with zipfile.ZipFile('mytext.zip', 'w') as myzip:\n",
    "    myzip.write('a.txt')\n",
    "    myzip.write('b.txt')\n",
    "    myzip.write('c.txt')\n",
    "\n",
    "#파일 해제하기\n",
    "with zipfile.ZipFile('mytext.zip') as myzip:\n",
    "    myzip.extractall()\n",
    "#합친 파일에서 특정 파일만 해제하고 싶을 때\n",
    "with zipfile.ZipFile('mytext.zip') as myzip:\n",
    "    myzip.extract('a.txt')\n",
    "    \n",
    "#압축하기\n",
    "with zipfile.ZipFile('mytext.zip', 'w', compression=zipfile.ZIP_LZMA, compresslevel=9) as myzip:\n",
    "    print()"
   ]
  },
  {
   "cell_type": "code",
   "execution_count": null,
   "id": "90a2a166",
   "metadata": {},
   "outputs": [],
   "source": [
    "#json\n",
    "import json\n",
    "with open('myinfo.json') as f:\n",
    "    data = json.load(f)"
   ]
  },
  {
   "cell_type": "code",
   "execution_count": 34,
   "id": "de092821",
   "metadata": {},
   "outputs": [],
   "source": [
    "import json\n",
    "data = {'name' : '홍길동', 'birth': '0525', 'age' : 30}\n",
    "with open('myinfo.json', 'w') as f:\n",
    "    json.dump(data, f)"
   ]
  },
  {
   "cell_type": "code",
   "execution_count": 36,
   "id": "cd749598",
   "metadata": {},
   "outputs": [
    {
     "data": {
      "text/plain": [
       "'{\"name\": \"\\\\ud64d\\\\uae38\\\\ub3d9\", \"birth\": \"0525\", \"age\": 30}'"
      ]
     },
     "execution_count": 36,
     "metadata": {},
     "output_type": "execute_result"
    }
   ],
   "source": [
    "import json\n",
    "d = {'name' : '홍길동', 'birth': '0525', 'age' : 30}\n",
    "json_data = json.dumps(d)\n",
    "json_data"
   ]
  },
  {
   "cell_type": "code",
   "execution_count": 37,
   "id": "95b5beac",
   "metadata": {},
   "outputs": [
    {
     "data": {
      "text/plain": [
       "{'name': '홍길동', 'birth': '0525', 'age': 30}"
      ]
     },
     "execution_count": 37,
     "metadata": {},
     "output_type": "execute_result"
    }
   ],
   "source": [
    "json.loads(json_data)"
   ]
  },
  {
   "cell_type": "code",
   "execution_count": null,
   "id": "ce67163d",
   "metadata": {},
   "outputs": [
    {
     "data": {
      "text/plain": [
       "{'name': '홍길동', 'birth': '0525', 'age': 30}"
      ]
     },
     "execution_count": 39,
     "metadata": {},
     "output_type": "execute_result"
    }
   ],
   "source": [
    "#한글 문자열이 아스키 형태의 문자열로 변경되는 것을 방지하는 방법\n",
    "d = {'name' : '홍길동', 'birth': '0525', 'age' : 30}\n",
    "json_data = json.dumps(d, ensure_ascii=False)\n",
    "json_data #'{\"name\": \"홍길동\", \"birth\": \"0525\", \"age\": 30}'\n",
    "json.loads(json_data) #{'name': '홍길동', 'birth': '0525', 'age': 30}"
   ]
  },
  {
   "cell_type": "code",
   "execution_count": null,
   "id": "c81f6e51",
   "metadata": {},
   "outputs": [
    {
     "data": {
      "text/plain": [
       "True"
      ]
     },
     "execution_count": 40,
     "metadata": {},
     "output_type": "execute_result"
    }
   ],
   "source": [
    "#webbrowser 브라우저 호출\n",
    "import webbrowser\n",
    "webbrowser.open_new('https://www.naver.com/')"
   ]
  },
  {
   "cell_type": "code",
   "execution_count": null,
   "id": "4f767c12",
   "metadata": {},
   "outputs": [
    {
     "data": {
      "text/plain": [
       "'Marilyn Larson'"
      ]
     },
     "execution_count": 41,
     "metadata": {},
     "output_type": "execute_result"
    }
   ],
   "source": [
    "#테스트용 가짜 데이터 생성성\n",
    "from faker import Faker\n",
    "fake = Faker()\n",
    "fake.name()"
   ]
  },
  {
   "cell_type": "code",
   "execution_count": 42,
   "id": "95e2a333",
   "metadata": {},
   "outputs": [
    {
     "data": {
      "text/plain": [
       "'이재현'"
      ]
     },
     "execution_count": 42,
     "metadata": {},
     "output_type": "execute_result"
    }
   ],
   "source": [
    "fake = Faker('ko-KR')\n",
    "fake.name()"
   ]
  },
  {
   "cell_type": "code",
   "execution_count": 43,
   "id": "80650437",
   "metadata": {},
   "outputs": [
    {
     "data": {
      "text/plain": [
       "'서울특별시 광진구 테헤란가 374-53'"
      ]
     },
     "execution_count": 43,
     "metadata": {},
     "output_type": "execute_result"
    }
   ],
   "source": [
    "fake.address()"
   ]
  },
  {
   "cell_type": "code",
   "execution_count": null,
   "id": "4e2b5f86",
   "metadata": {},
   "outputs": [],
   "source": [
    "test_data = [(fake.name(), fake.address()) for i in range(30)]\n",
    "test_data"
   ]
  },
  {
   "cell_type": "code",
   "execution_count": 46,
   "id": "65527387",
   "metadata": {},
   "outputs": [
    {
     "name": "stdout",
     "output_type": "stream",
     "text": [
      "남은 돈은 2640원 입니다.\n"
     ]
    }
   ],
   "source": [
    "#sympy\n",
    "from fractions import Fraction\n",
    "import sympy\n",
    "\n",
    "#가지고 있던 돈 x\n",
    "x=sympy.Symbol('x')\n",
    "\n",
    "#가지고 있던 돈의 2/5가가 1760원이므로 방정식은 X*(2/5) = 1760이다.\n",
    "f = sympy.Eq(x*Fraction('2/5'), 1760)\n",
    "\n",
    "#방정식을 만족하는 값을 구한다.\n",
    "result = sympy.solve(f) #결과값 리스트\n",
    "\n",
    "#남은 돈은 다음과 같이 가지고 있던 돈에서 1760원을 빼면 됨\n",
    "remains = result[0] - 1760\n",
    "\n",
    "print('남은 돈은 {}원 입니다.'.format(remains))"
   ]
  },
  {
   "cell_type": "code",
   "execution_count": null,
   "id": "2b19e058",
   "metadata": {},
   "outputs": [
    {
     "data": {
      "text/plain": [
       "[-1, 1]"
      ]
     },
     "execution_count": 47,
     "metadata": {},
     "output_type": "execute_result"
    }
   ],
   "source": [
    "#x2 = 1과 같은 2차 방정식의 해 구하기\n",
    "import sympy\n",
    "x = sympy.Symbol('x')\n",
    "f = sympy.Eq(x**2, 1)\n",
    "sympy.solve(f)"
   ]
  },
  {
   "cell_type": "code",
   "execution_count": null,
   "id": "d4aa2651",
   "metadata": {},
   "outputs": [
    {
     "data": {
      "text/plain": [
       "{x: 7, y: 3}"
      ]
     },
     "execution_count": 49,
     "metadata": {},
     "output_type": "execute_result"
    }
   ],
   "source": [
    "#연립방정식의 해 구하기\n",
    "import sympy\n",
    "x,y = sympy.symbols('x y')\n",
    "f1 = sympy.Eq(x+y, 10)\n",
    "f2 = sympy.Eq(x-y, 4)\n",
    "sympy.solve([f1, f2])"
   ]
  }
 ],
 "metadata": {
  "kernelspec": {
   "display_name": "Python 3",
   "language": "python",
   "name": "python3"
  },
  "language_info": {
   "codemirror_mode": {
    "name": "ipython",
    "version": 3
   },
   "file_extension": ".py",
   "mimetype": "text/x-python",
   "name": "python",
   "nbconvert_exporter": "python",
   "pygments_lexer": "ipython3",
   "version": "3.12.9"
  }
 },
 "nbformat": 4,
 "nbformat_minor": 5
}
