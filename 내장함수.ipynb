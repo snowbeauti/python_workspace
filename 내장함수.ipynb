{
 "cells": [
  {
   "cell_type": "code",
   "execution_count": null,
   "id": "156013ad-2f7e-4a98-ab4c-f733d2195b13",
   "metadata": {},
   "outputs": [
    {
     "data": {
      "text/plain": [
       "3"
      ]
     },
     "execution_count": 2,
     "metadata": {},
     "output_type": "execute_result"
    }
   ],
   "source": [
    "#절대값을 돌려주는 함수\n",
    "abs(3)\n",
    "abs(-3)\n",
    "abs(-1.2)"
   ]
  },
  {
   "cell_type": "code",
   "execution_count": null,
   "id": "1accb9cc",
   "metadata": {},
   "outputs": [
    {
     "data": {
      "text/plain": [
       "True"
      ]
     },
     "execution_count": 7,
     "metadata": {},
     "output_type": "execute_result"
    }
   ],
   "source": [
    "#all(x) 반복 가능한 데이터 x를 입력값으로 x 요소가 모두 참이면 True, 하나라도 거짓이면 False 리턴\n",
    "all([1,2,3]) #True\n",
    "all([1,2,3,0]) #False\n",
    "all([]) #True"
   ]
  },
  {
   "cell_type": "code",
   "execution_count": 10,
   "id": "983d0c07",
   "metadata": {},
   "outputs": [
    {
     "data": {
      "text/plain": [
       "False"
      ]
     },
     "execution_count": 10,
     "metadata": {},
     "output_type": "execute_result"
    }
   ],
   "source": [
    "#any(x) 반복 가능한 데이터 x를 입력값으로 x 요소가 하나라도 참이면 True, 모두 거짓이면 False 리턴\n",
    "any([1,2,3,0]) #True\n",
    "any([0, '']) #False\n",
    "any([]) #False"
   ]
  },
  {
   "cell_type": "code",
   "execution_count": null,
   "id": "c196a96d",
   "metadata": {},
   "outputs": [
    {
     "data": {
      "text/plain": [
       "'가'"
      ]
     },
     "execution_count": 12,
     "metadata": {},
     "output_type": "execute_result"
    }
   ],
   "source": [
    "#유니코드 숫자 값을 입력받아 해당하는 문자 리턴\n",
    "chr(97) #'a'\n",
    "chr(44032) #'가'"
   ]
  },
  {
   "cell_type": "code",
   "execution_count": 14,
   "id": "e13af527",
   "metadata": {},
   "outputs": [
    {
     "data": {
      "text/plain": [
       "['__class__',\n",
       " '__class_getitem__',\n",
       " '__contains__',\n",
       " '__delattr__',\n",
       " '__delitem__',\n",
       " '__dir__',\n",
       " '__doc__',\n",
       " '__eq__',\n",
       " '__format__',\n",
       " '__ge__',\n",
       " '__getattribute__',\n",
       " '__getitem__',\n",
       " '__getstate__',\n",
       " '__gt__',\n",
       " '__hash__',\n",
       " '__init__',\n",
       " '__init_subclass__',\n",
       " '__ior__',\n",
       " '__iter__',\n",
       " '__le__',\n",
       " '__len__',\n",
       " '__lt__',\n",
       " '__ne__',\n",
       " '__new__',\n",
       " '__or__',\n",
       " '__reduce__',\n",
       " '__reduce_ex__',\n",
       " '__repr__',\n",
       " '__reversed__',\n",
       " '__ror__',\n",
       " '__setattr__',\n",
       " '__setitem__',\n",
       " '__sizeof__',\n",
       " '__str__',\n",
       " '__subclasshook__',\n",
       " 'clear',\n",
       " 'copy',\n",
       " 'fromkeys',\n",
       " 'get',\n",
       " 'items',\n",
       " 'keys',\n",
       " 'pop',\n",
       " 'popitem',\n",
       " 'setdefault',\n",
       " 'update',\n",
       " 'values']"
      ]
     },
     "execution_count": 14,
     "metadata": {},
     "output_type": "execute_result"
    }
   ],
   "source": [
    "#dir(x) 객체가 지닌 변수나 함수를 보여줌\n",
    "dir([1,2,3])\n",
    "dir({'1':'a'})"
   ]
  },
  {
   "cell_type": "code",
   "execution_count": null,
   "id": "e714bc2a",
   "metadata": {},
   "outputs": [
    {
     "data": {
      "text/plain": [
       "1"
      ]
     },
     "execution_count": 17,
     "metadata": {},
     "output_type": "execute_result"
    }
   ],
   "source": [
    "#divmod(a,b) a를 b로 나눈 몫과 나머지를 튜플로\n",
    "divmod(7,3) #(2, 1)\n",
    "\n",
    "#몫을 구하는 연산자 //와 나머지를 구하는 연산자 %를 각각 사용한 결과와 비교\n",
    "7 // 3 #2\n",
    "7 % 3 #1"
   ]
  },
  {
   "cell_type": "code",
   "execution_count": 18,
   "id": "62766ed4",
   "metadata": {},
   "outputs": [
    {
     "name": "stdout",
     "output_type": "stream",
     "text": [
      "0 body\n",
      "1 foo\n",
      "2 bar\n"
     ]
    }
   ],
   "source": [
    "#enumerate(x) 열거하다, 순서가 ㅇ딨는 데이터를 입력받아 인덱스 값을 포함하는 enumerate객체 리턴\n",
    "for i, name in enumerate(['body', 'foo', 'bar']):\n",
    "    print(i,name)"
   ]
  },
  {
   "cell_type": "code",
   "execution_count": null,
   "id": "0836e1fa",
   "metadata": {},
   "outputs": [
    {
     "data": {
      "text/plain": [
       "(1, 1)"
      ]
     },
     "execution_count": 23,
     "metadata": {},
     "output_type": "execute_result"
    }
   ],
   "source": [
    "#eval(expression) 문자열로 구성된 표현식으로 입력받아 해당 문자열을 실행한 결과 리턴\n",
    "eval('1 + 2') #3\n",
    "eval(\"'hi + a'\") #'hi + a'\n",
    "eval('divmod(4,3)') #(1, 1)"
   ]
  },
  {
   "cell_type": "code",
   "execution_count": null,
   "id": "004f8544",
   "metadata": {},
   "outputs": [
    {
     "name": "stdout",
     "output_type": "stream",
     "text": [
      "[1, 2, 6]\n"
     ]
    }
   ],
   "source": [
    "#filter(함수, 반복_가능한_데이터) \n",
    "#반복 가능한 데이터의 요소 순서대로 함수를 호출했을 때 리턴값이 참인 것만 묶어서 리턴\n",
    "def positive(l):\n",
    "    result = [] #양수만 걸러 내서 저장할 변수수\n",
    "    for i in l:\n",
    "        if i > 0:\n",
    "            result.append(i) #리스트에 i 추가\n",
    "    return result\n",
    "\n",
    "print(positive([1,-3,2,0,-5,6]))\n",
    "#[1, 2, 6]"
   ]
  },
  {
   "cell_type": "code",
   "execution_count": null,
   "id": "3fd20127",
   "metadata": {},
   "outputs": [
    {
     "data": {
      "text/plain": [
       "'0x3'"
      ]
     },
     "execution_count": 26,
     "metadata": {},
     "output_type": "execute_result"
    }
   ],
   "source": [
    "#hex(X) 정수 값을 입력받아 16진수 문자로 리턴\n",
    "hex(234) #'0xea'\n",
    "hex(3) #'0x3'"
   ]
  },
  {
   "cell_type": "code",
   "execution_count": null,
   "id": "c4f0da62",
   "metadata": {},
   "outputs": [
    {
     "data": {
      "text/plain": [
       "140725205150232"
      ]
     },
     "execution_count": 29,
     "metadata": {},
     "output_type": "execute_result"
    }
   ],
   "source": [
    "#id(object) 객체를 입력받아 고유 주솟값을 리턴\n",
    "a = 3\n",
    "id(3) #140725205150200\n",
    "id(a) #140725205150200\n",
    "b = a\n",
    "id(b) #140725205150200\n",
    "id(4) #140725205150232"
   ]
  },
  {
   "cell_type": "code",
   "execution_count": null,
   "id": "30f87205",
   "metadata": {},
   "outputs": [
    {
     "data": {
      "text/plain": [
       "'hi'"
      ]
     },
     "execution_count": 31,
     "metadata": {},
     "output_type": "execute_result"
    }
   ],
   "source": [
    "#input([prompt]) 사용자 입력 받는 함수\n",
    "a = input() #사용자가 입력한 정보를 변수 a에 저장\n",
    "a #입력받은 값 출력력"
   ]
  },
  {
   "cell_type": "code",
   "execution_count": null,
   "id": "1561e7bf",
   "metadata": {},
   "outputs": [],
   "source": [
    "#int(x) 문자열형태의 숫자나 소수점이 있는 숫자를 정수로 리턴\n",
    "int(3) #3\n",
    "int(3.4) #3\n"
   ]
  },
  {
   "cell_type": "code",
   "execution_count": null,
   "id": "05f860ba",
   "metadata": {},
   "outputs": [
    {
     "data": {
      "text/plain": [
       "3"
      ]
     },
     "execution_count": 32,
     "metadata": {},
     "output_type": "execute_result"
    }
   ],
   "source": [
    "#radix 진수로 표현된 문자열 x를 10진수로 변환하여 리턴\n",
    "int('11',2) #3\n",
    "int('1A',16) #26"
   ]
  },
  {
   "cell_type": "code",
   "execution_count": null,
   "id": "32a18d7e",
   "metadata": {},
   "outputs": [
    {
     "data": {
      "text/plain": [
       "False"
      ]
     },
     "execution_count": 35,
     "metadata": {},
     "output_type": "execute_result"
    }
   ],
   "source": [
    "#isinstance(object, class) 첫번째 인수로 객체, 두번째 인수로 클래스 받음\n",
    "#입력받은 객체가 그 클래스의 인스턴스인지를 판단하여 참이면 True, 거짓이면 False를 리턴\n",
    "class Person: pass # 아무런 기능이 없는 Person 클래스 생성\n",
    "a = Person()\n",
    "isinstance(a, Person) #a가 Person 클래스의 인스턴스인지 확인\n",
    "#True\n",
    "\n",
    "b = 3\n",
    "isinstance(b, Person)\n",
    "#False"
   ]
  },
  {
   "cell_type": "code",
   "execution_count": null,
   "id": "39985702",
   "metadata": {},
   "outputs": [
    {
     "data": {
      "text/plain": [
       "6"
      ]
     },
     "execution_count": 36,
     "metadata": {},
     "output_type": "execute_result"
    }
   ],
   "source": [
    "#len(s) 입력값 s의 길이(요소의 전체 개수)를 리턴\n",
    "len(\"python\") #6\n",
    "len([1,2,3]) #3\n",
    "len((1,'a')) #2"
   ]
  },
  {
   "cell_type": "code",
   "execution_count": null,
   "id": "9b9182bd",
   "metadata": {},
   "outputs": [
    {
     "data": {
      "text/plain": [
       "[1, 2, 3]"
      ]
     },
     "execution_count": 39,
     "metadata": {},
     "output_type": "execute_result"
    }
   ],
   "source": [
    "#list(iterable) 반복가능한 데이터를 입력받아 리스트로 만들어리턴\n",
    "list(\"python\") #['p', 'y', 't', 'h', 'o', 'n']\n",
    "list((1,2,3)) #[1, 2, 3]\n",
    "\n",
    "a = [1, 2, 3]\n",
    "b = list(a)\n",
    "b #[1, 2, 3]\n"
   ]
  },
  {
   "cell_type": "code",
   "execution_count": null,
   "id": "1026df9b",
   "metadata": {},
   "outputs": [
    {
     "data": {
      "text/plain": [
       "[2, 4, 6, 8]"
      ]
     },
     "execution_count": 41,
     "metadata": {},
     "output_type": "execute_result"
    }
   ],
   "source": [
    "#map(f,iterable) 함수(f)와 반복 가능한 데이터를 입력으로 받음\n",
    "#입력받은 데이터의 각요소에 함수f를 적용한 결과를 리턴\n",
    "def two_times(x):\n",
    "    return x * 2\n",
    "list(map(two_times, [1,2,3,4]))\n",
    "#[2, 4, 6, 8]"
   ]
  },
  {
   "cell_type": "code",
   "execution_count": null,
   "id": "13ca1235",
   "metadata": {},
   "outputs": [
    {
     "data": {
      "text/plain": [
       "[2, 4, 6, 8]"
      ]
     },
     "execution_count": 42,
     "metadata": {},
     "output_type": "execute_result"
    }
   ],
   "source": [
    "#람다활용\n",
    "list(map(lambda a : a*2, [1,2,3,4]))\n",
    "#[2, 4, 6, 8]"
   ]
  },
  {
   "cell_type": "code",
   "execution_count": null,
   "id": "2e6428b2",
   "metadata": {},
   "outputs": [
    {
     "data": {
      "text/plain": [
       "'y'"
      ]
     },
     "execution_count": 43,
     "metadata": {},
     "output_type": "execute_result"
    }
   ],
   "source": [
    "#max(iterable) 반복 가능한 데이터를 입력받아 그 최댓값을 리턴\n",
    "max([1,2,3]) #3\n",
    "max('python') #y"
   ]
  },
  {
   "cell_type": "code",
   "execution_count": 45,
   "id": "3695666a",
   "metadata": {},
   "outputs": [
    {
     "data": {
      "text/plain": [
       "'h'"
      ]
     },
     "execution_count": 45,
     "metadata": {},
     "output_type": "execute_result"
    }
   ],
   "source": [
    "#min(iterable) 반복 가능한 데이터를 입력받아 그 최솟값을 리턴\n",
    "min([1,2,3])\n",
    "min('python')"
   ]
  },
  {
   "cell_type": "code",
   "execution_count": null,
   "id": "8e1f954d",
   "metadata": {},
   "outputs": [
    {
     "data": {
      "text/plain": [
       "'0o30071'"
      ]
     },
     "execution_count": 47,
     "metadata": {},
     "output_type": "execute_result"
    }
   ],
   "source": [
    "#oct(x) 정수를 8진수 문자열로 바꾸어 리턴\n",
    "oct(34) #'0o42'\n",
    "oct(12345) #'0o30071'"
   ]
  },
  {
   "cell_type": "code",
   "execution_count": null,
   "id": "d9eaf8e1",
   "metadata": {},
   "outputs": [],
   "source": [
    "#open(filename,[mode])  ‘파일 이름’과‘읽기방법’을 입력받아 파일 객체를 리턴\n",
    "f = open('binary_file', 'rb')"
   ]
  },
  {
   "cell_type": "code",
   "execution_count": null,
   "id": "db797d5c",
   "metadata": {},
   "outputs": [
    {
     "data": {
      "text/plain": [
       "44032"
      ]
     },
     "execution_count": 50,
     "metadata": {},
     "output_type": "execute_result"
    }
   ],
   "source": [
    "#ord(c) 문자의 유니코드 숫자 값을 리턴\n",
    "ord('a') #97\n",
    "ord('가') #44032"
   ]
  },
  {
   "cell_type": "code",
   "execution_count": null,
   "id": "5e0555c7",
   "metadata": {},
   "outputs": [
    {
     "data": {
      "text/plain": [
       "16"
      ]
     },
     "execution_count": 51,
     "metadata": {},
     "output_type": "execute_result"
    }
   ],
   "source": [
    "#pow(x,y) x를 y제곱한 결과값을 리턴\n",
    "pow(2,4) #16\n",
    "pow(3,3) #27"
   ]
  },
  {
   "cell_type": "code",
   "execution_count": null,
   "id": "97f6a61e",
   "metadata": {},
   "outputs": [
    {
     "data": {
      "text/plain": [
       "[1, 3, 5, 7, 9]"
      ]
     },
     "execution_count": 54,
     "metadata": {},
     "output_type": "execute_result"
    }
   ],
   "source": [
    "#range([start,] stop [,step])\n",
    "#입력받은 숫자에 해당하는 범위 값을 반복 가능한 객체로 만들어 리턴\n",
    "list(range(5)) #[0, 1, 2, 3, 4]\n",
    "list(range(5,10)) #[5, 6, 7, 8, 9]\n",
    "list(range(1, 10, 2)) #[1, 3, 5, 7, 9] 1부터 10까지 2거리로 증가"
   ]
  },
  {
   "cell_type": "code",
   "execution_count": null,
   "id": "6df0383d",
   "metadata": {},
   "outputs": [
    {
     "data": {
      "text/plain": [
       "4.21"
      ]
     },
     "execution_count": 56,
     "metadata": {},
     "output_type": "execute_result"
    }
   ],
   "source": [
    "#round(number[,ndigits]) 숫자를 입력받아 반올림해 리턴하는 함수\n",
    "round(4.6) #5\n",
    "round(4.2) #2\n",
    "round(4.213,2) #4.21 소숫점2째 자리까지 표시"
   ]
  },
  {
   "cell_type": "code",
   "execution_count": null,
   "id": "16a4a2b6",
   "metadata": {},
   "outputs": [
    {
     "data": {
      "text/plain": [
       "['e', 'o', 'r', 'z']"
      ]
     },
     "execution_count": 58,
     "metadata": {},
     "output_type": "execute_result"
    }
   ],
   "source": [
    "#sorted(iterable) 입력 데이터를 정렬한 후 그 결과를 리스트로 리턴하는 함수\n",
    "sorted([3,1,2]) #[1, 2, 3]\n",
    "sorted(['a','c','b']) #['a', 'b', 'c']\n",
    "sorted('zero') #['e', 'o', 'r', 'z']\n",
    "sorted((3,2,1)) #[1,2,3]"
   ]
  },
  {
   "cell_type": "code",
   "execution_count": null,
   "id": "664b0a35",
   "metadata": {},
   "outputs": [],
   "source": [
    "#str(object) 문자열 형태로 객체를 변환하여 리턴하는 함수\n",
    "str(3) #'3'\n",
    "str('hi') #'hi'"
   ]
  },
  {
   "cell_type": "code",
   "execution_count": null,
   "id": "15c7ae51",
   "metadata": {},
   "outputs": [],
   "source": [
    "#sum(iterable) 입력 데이터의 합을 리턴하는 함수\n",
    "sum([1,2,3]) #6\n",
    "sum([4,5,6]) #15"
   ]
  },
  {
   "cell_type": "code",
   "execution_count": null,
   "id": "a0797353",
   "metadata": {},
   "outputs": [
    {
     "data": {
      "text/plain": [
       "(1, 2, 3)"
      ]
     },
     "execution_count": 60,
     "metadata": {},
     "output_type": "execute_result"
    }
   ],
   "source": [
    "#tuple(iterable) 반복 가능한 데이터를 튜플로 바꾸어 리턴하는 함수\n",
    "tuple(\"abc\") #('a', 'b', 'c')\n",
    "tuple([1,2,3]) #(1, 2, 3)\n",
    "tuple((1, 2, 3)) #(1, 2, 3)"
   ]
  },
  {
   "cell_type": "code",
   "execution_count": null,
   "id": "65397779",
   "metadata": {},
   "outputs": [
    {
     "data": {
      "text/plain": [
       "_io.TextIOWrapper"
      ]
     },
     "execution_count": 64,
     "metadata": {},
     "output_type": "execute_result"
    }
   ],
   "source": [
    "#type(object) 입력값의 자료형이 무엇인지 알려주는 함수\n",
    "type(\"abc\") #str\n",
    "type([]) #list\n",
    "type(open('test','w')) #_io.TextIOWrapper"
   ]
  },
  {
   "cell_type": "code",
   "execution_count": null,
   "id": "22953627",
   "metadata": {},
   "outputs": [
    {
     "data": {
      "text/plain": [
       "[('a', 'd'), ('b', 'e'), ('c', 'f')]"
      ]
     },
     "execution_count": 67,
     "metadata": {},
     "output_type": "execute_result"
    }
   ],
   "source": [
    "#zip(*iterable) 동일한 개수로 이루어진 데이터들을 묶어서 리턴하는 함수\n",
    "list(zip([1,2,3],[4,5,6])) #[(1, 4), (2, 5), (3, 6)]\n",
    "list(zip([1,2,3],[4,5,6],[7,8,9])) #[(1, 4, 7), (2, 5, 8), (3, 6, 9)]\n",
    "list(zip('abc','def')) #[('a', 'd'), ('b', 'e'), ('c', 'f')]"
   ]
  }
 ],
 "metadata": {
  "kernelspec": {
   "display_name": "Python 3",
   "language": "python",
   "name": "python3"
  },
  "language_info": {
   "codemirror_mode": {
    "name": "ipython",
    "version": 3
   },
   "file_extension": ".py",
   "mimetype": "text/x-python",
   "name": "python",
   "nbconvert_exporter": "python",
   "pygments_lexer": "ipython3",
   "version": "3.12.9"
  }
 },
 "nbformat": 4,
 "nbformat_minor": 5
}
